{
 "cells": [
  {
   "cell_type": "markdown",
   "metadata": {},
   "source": [
    "\n",
    "<a href='https://www.darshan.ac.in/'> <img src='https://www.darshan.ac.in/Content/media/DU_Logo.svg' width=\"250\" height=\"300\"/></a>\n",
    "<pre>\n",
    "<center><b><h1>Python Programming - 2301CS404</b></center>\n",
    "<center><b><h1>Lab - 5</b></center>    \n",
    "<pre>"
   ]
  },
  {
   "cell_type": "markdown",
   "metadata": {},
   "source": [
    "# List"
   ]
  },
  {
   "cell_type": "markdown",
   "metadata": {},
   "source": [
    "### 01) WAP to find sum of all the elements in a List."
   ]
  },
  {
   "cell_type": "code",
   "execution_count": 62,
   "metadata": {},
   "outputs": [
    {
     "name": "stdin",
     "output_type": "stream",
     "text": [
      "Enter a list of numbers separated by spaces:  1 2 3 4 5 6 7 8 9\n"
     ]
    },
    {
     "name": "stdout",
     "output_type": "stream",
     "text": [
      "Sum of all the elements in the list: 45\n"
     ]
    }
   ],
   "source": [
    "input_list = input(\"Enter a list of numbers separated by spaces: \").split()\n",
    "numbers = [int(num) for num in input_list]\n",
    "total_sum = sum(numbers)\n",
    "print(\"Sum of all the elements in the list:\", total_sum)"
   ]
  },
  {
   "cell_type": "markdown",
   "metadata": {},
   "source": [
    "### 02) WAP to find largest element in a List."
   ]
  },
  {
   "cell_type": "code",
   "execution_count": 7,
   "metadata": {},
   "outputs": [
    {
     "name": "stdin",
     "output_type": "stream",
     "text": [
      "Enter the elements of the list separated by spaces:  12 56 74 14 25 69 48\n"
     ]
    },
    {
     "name": "stdout",
     "output_type": "stream",
     "text": [
      "The largest element in the list is: 74\n"
     ]
    }
   ],
   "source": [
    "numbers = list(map(int, input(\"Enter the elements of the list separated by spaces: \").split()))\n",
    "largest = max(numbers)\n",
    "print(\"The largest element in the list is:\", largest)"
   ]
  },
  {
   "cell_type": "markdown",
   "metadata": {},
   "source": [
    "### 03) WAP to find the length of a List."
   ]
  },
  {
   "cell_type": "code",
   "execution_count": 9,
   "metadata": {},
   "outputs": [
    {
     "name": "stdout",
     "output_type": "stream",
     "text": [
      "The length of the list is:  9\n"
     ]
    }
   ],
   "source": [
    "num = [1,2,3,4,5,6,7,8,9]\n",
    "len_of_list = len(num)\n",
    "print(\"The length of the list is: \",len_of_list)"
   ]
  },
  {
   "cell_type": "markdown",
   "metadata": {},
   "source": [
    "### 04) WAP to interchange first and last elements in a list."
   ]
  },
  {
   "cell_type": "code",
   "execution_count": 11,
   "metadata": {},
   "outputs": [
    {
     "name": "stdin",
     "output_type": "stream",
     "text": [
      "Enter the elements of the list separated by spaces:  1 2 3 4 5 6 1 2 3 4\n"
     ]
    },
    {
     "name": "stdout",
     "output_type": "stream",
     "text": [
      "List after swapping first and last elements: [4, 2, 3, 4, 5, 6, 1, 2, 3, 1]\n"
     ]
    }
   ],
   "source": [
    "numbers = list(map(int, input(\"Enter the elements of the list separated by spaces: \").split()))\n",
    "numbers[0], numbers[-1] = numbers[-1], numbers[0]\n",
    "print(\"List after swapping first and last elements:\", numbers)"
   ]
  },
  {
   "cell_type": "markdown",
   "metadata": {},
   "source": [
    "### 05) WAP to split the List into two parts and append the first part to the end."
   ]
  },
  {
   "cell_type": "code",
   "execution_count": 25,
   "metadata": {},
   "outputs": [
    {
     "name": "stdin",
     "output_type": "stream",
     "text": [
      "Enter the elements of the list separated by spaces:  10 20 30 40 50\n",
      "Enter the split point (index):  2\n"
     ]
    },
    {
     "name": "stdout",
     "output_type": "stream",
     "text": [
      "List after splitting and appending: [30, 40, 50, 10, 20]\n"
     ]
    }
   ],
   "source": [
    "numbers = list(map(int, input(\"Enter the elements of the list separated by spaces: \").split()))\n",
    "split_point = int(input(\"Enter the split point (index): \"))\n",
    "result = numbers[split_point:] + numbers[:split_point]\n",
    "print(\"List after splitting and appending:\", result)"
   ]
  },
  {
   "cell_type": "markdown",
   "metadata": {},
   "source": [
    "### 06) WAP to interchange the elements on two positions entered by a user."
   ]
  },
  {
   "cell_type": "code",
   "execution_count": 23,
   "metadata": {},
   "outputs": [
    {
     "name": "stdin",
     "output_type": "stream",
     "text": [
      "Enter the elements of the list separated by spaces:  10 20 30 40 50 60 \n",
      "Enter the first position (index):  1 \n",
      "Enter the second position (index):  5\n"
     ]
    },
    {
     "name": "stdout",
     "output_type": "stream",
     "text": [
      "List after swapping: [10, 60, 30, 40, 50, 20]\n"
     ]
    }
   ],
   "source": [
    "numbers = list(map(int, input(\"Enter the elements of the list separated by spaces: \").split()))\n",
    "pos1 = int(input(\"Enter the first position (index): \"))\n",
    "pos2 = int(input(\"Enter the second position (index): \"))\n",
    "numbers[pos1], numbers[pos2] = numbers[pos2], numbers[pos1]\n",
    "print(\"List after swapping:\", numbers)"
   ]
  },
  {
   "cell_type": "markdown",
   "metadata": {},
   "source": [
    "### 07) WAP to reverse the list entered by user."
   ]
  },
  {
   "cell_type": "code",
   "execution_count": 27,
   "metadata": {},
   "outputs": [
    {
     "name": "stdin",
     "output_type": "stream",
     "text": [
      "Enter the elements of the list separated by spaces:  10 5 60 7 80\n"
     ]
    },
    {
     "name": "stdout",
     "output_type": "stream",
     "text": [
      "Reversed list: [80, 7, 60, 5, 10]\n"
     ]
    }
   ],
   "source": [
    "numbers = list(map(int, input(\"Enter the elements of the list separated by spaces: \").split()))\n",
    "reversed_list = numbers[::-1]\n",
    "print(\"Reversed list:\", reversed_list)"
   ]
  },
  {
   "cell_type": "markdown",
   "metadata": {},
   "source": [
    "### 08) WAP to print even numbers in a list."
   ]
  },
  {
   "cell_type": "code",
   "execution_count": 37,
   "metadata": {},
   "outputs": [
    {
     "name": "stdin",
     "output_type": "stream",
     "text": [
      "Enter the elements of the list separated by spaces:  1 2 3 4 5 6 7 8 9\n"
     ]
    },
    {
     "name": "stdout",
     "output_type": "stream",
     "text": [
      "even numbers are :  [2, 4, 6, 8]\n"
     ]
    }
   ],
   "source": [
    "user_input = input(\"Enter the elements of the list separated by spaces: \")\n",
    "numbers = list(map(int,user_input.split()))\n",
    "even_num = [num for num in numbers if num%2==0]\n",
    "print(\"even numbers are : \", even_num)"
   ]
  },
  {
   "cell_type": "markdown",
   "metadata": {},
   "source": [
    "### 09) WAP to count unique items in a list."
   ]
  },
  {
   "cell_type": "code",
   "execution_count": 41,
   "metadata": {},
   "outputs": [
    {
     "name": "stdin",
     "output_type": "stream",
     "text": [
      "Enter the elements of the list separated by spaces:  1 2 3 4 5 6 7 8 9 \n"
     ]
    },
    {
     "name": "stdout",
     "output_type": "stream",
     "text": [
      "the number of unique list in the list is :  9\n"
     ]
    }
   ],
   "source": [
    "user_input = input(\"Enter the elements of the list separated by spaces: \")\n",
    "num = user_input.split()\n",
    "unique_item = set(num)\n",
    "unique_count = len(unique_item)\n",
    "print(\"the number of unique list in the list is : \",unique_count)"
   ]
  },
  {
   "cell_type": "markdown",
   "metadata": {},
   "source": [
    "### 10) WAP to copy a list."
   ]
  },
  {
   "cell_type": "code",
   "execution_count": 43,
   "metadata": {},
   "outputs": [
    {
     "name": "stdout",
     "output_type": "stream",
     "text": [
      "[1, 2, 3, 4, 5]\n"
     ]
    }
   ],
   "source": [
    "original_list = [1, 2, 3, 4, 5]\n",
    "copied_list = original_list.copy()\n",
    "print(copied_list)"
   ]
  },
  {
   "cell_type": "markdown",
   "metadata": {},
   "source": [
    "### 11) WAP to print all odd numbers in a given range."
   ]
  },
  {
   "cell_type": "code",
   "execution_count": 45,
   "metadata": {},
   "outputs": [
    {
     "name": "stdout",
     "output_type": "stream",
     "text": [
      "1\n",
      "3\n",
      "5\n",
      "7\n",
      "9\n",
      "11\n",
      "13\n",
      "15\n",
      "17\n",
      "19\n"
     ]
    }
   ],
   "source": [
    "start = 1\n",
    "end = 20\n",
    "for num in range(start, end + 1):\n",
    "    if num % 2 != 0:\n",
    "        print(num)\n"
   ]
  },
  {
   "cell_type": "markdown",
   "metadata": {},
   "source": [
    "### 12) WAP to count occurrences of an element in a list."
   ]
  },
  {
   "cell_type": "code",
   "execution_count": 50,
   "metadata": {},
   "outputs": [
    {
     "name": "stdin",
     "output_type": "stream",
     "text": [
      "Enter a list of elements separated by spaces:  1 2 3 4 5 6 7 8 5 2 3 4 1 2 2 3 1 4 \n",
      "Enter the element to count:  2\n"
     ]
    },
    {
     "name": "stdout",
     "output_type": "stream",
     "text": [
      "The element '2' occurs 4 times in the list.\n"
     ]
    }
   ],
   "source": [
    "input_list = input(\"Enter a list of elements separated by spaces: \").split()\n",
    "element = input(\"Enter the element to count: \")\n",
    "count = 0\n",
    "for item in input_list:\n",
    "    if item == element:\n",
    "        count += 1\n",
    "print(f\"The element '{element}' occurs {count} times in the list.\")"
   ]
  },
  {
   "cell_type": "markdown",
   "metadata": {},
   "source": [
    "### 13) WAP to find second largest number in a list."
   ]
  },
  {
   "cell_type": "code",
   "execution_count": 52,
   "metadata": {},
   "outputs": [
    {
     "name": "stdout",
     "output_type": "stream",
     "text": [
      "The second largest number is: 34\n"
     ]
    }
   ],
   "source": [
    "input_list = [12, 35, 1, 10, 34, 1]\n",
    "unique_list = list(set(input_list))\n",
    "unique_list.sort(reverse=True)\n",
    "if len(unique_list) >= 2:\n",
    "    second_largest = unique_list[1]\n",
    "    print(\"The second largest number is:\", second_largest)\n",
    "else:\n",
    "    print(\"There is no second largest number.\")"
   ]
  },
  {
   "cell_type": "markdown",
   "metadata": {},
   "source": [
    "### 14) WAP to extract elements with frequency greater than K."
   ]
  },
  {
   "cell_type": "code",
   "execution_count": 60,
   "metadata": {},
   "outputs": [
    {
     "name": "stdin",
     "output_type": "stream",
     "text": [
      "Enter the elements of the list separated by spaces:  1 2 2 4 4 4 4 5 9 8 7 2 2 \n",
      "Enter the frequency threshold (K):  4\n"
     ]
    },
    {
     "name": "stdout",
     "output_type": "stream",
     "text": [
      "Elements with frequency greater than 4 are: []\n"
     ]
    }
   ],
   "source": [
    "user_input = input(\"Enter the elements of the list separated by spaces: \")\n",
    "elements = user_input.split()\n",
    "K = int(input(\"Enter the frequency threshold (K): \"))\n",
    "result = [element for element in set(elements) if elements.count(element) > K]\n",
    "print(\"Elements with frequency greater than\", K, \"are:\", result)"
   ]
  },
  {
   "cell_type": "markdown",
   "metadata": {},
   "source": [
    "### 15) WAP to create a list of squared numbers from 0 to 9 with and without using List Comprehension."
   ]
  },
  {
   "cell_type": "code",
   "execution_count": 54,
   "metadata": {},
   "outputs": [
    {
     "name": "stdout",
     "output_type": "stream",
     "text": [
      "Squared numbers without using list comprehension: [0, 1, 4, 9, 16, 25, 36, 49, 64, 81]\n"
     ]
    }
   ],
   "source": [
    "squared_numbers = []\n",
    "for x in range(10):\n",
    "    squared_numbers.append(x**2)\n",
    "print(\"Squared numbers without using list comprehension:\", squared_numbers)"
   ]
  },
  {
   "cell_type": "markdown",
   "metadata": {},
   "source": [
    "### 16) WAP to create a new list (fruit whose name starts with 'b') from the list of fruits given by user."
   ]
  },
  {
   "cell_type": "code",
   "execution_count": 56,
   "metadata": {},
   "outputs": [
    {
     "name": "stdin",
     "output_type": "stream",
     "text": [
      "Enter a list of fruits separated by spaces:  banana mango papaya pineapple guava lichi\n"
     ]
    },
    {
     "name": "stdout",
     "output_type": "stream",
     "text": [
      "Fruits whose names start with 'b': ['banana']\n"
     ]
    }
   ],
   "source": [
    "input_fruits = input(\"Enter a list of fruits separated by spaces: \").split()\n",
    "fruits_starting_with_b = [fruit for fruit in input_fruits if fruit.lower().startswith('b')]\n",
    "print(\"Fruits whose names start with 'b':\", fruits_starting_with_b)"
   ]
  },
  {
   "cell_type": "markdown",
   "metadata": {},
   "source": [
    "### 17) WAP to create a list of common elements from given two lists."
   ]
  },
  {
   "cell_type": "code",
   "execution_count": 58,
   "metadata": {},
   "outputs": [
    {
     "name": "stdin",
     "output_type": "stream",
     "text": [
      "Enter the first list of elements separated by spaces:  1 2 3 4 5 6 7 8 9\n",
      "Enter the second list of elements separated by spaces:   2 4 10 50 70 80 50\n"
     ]
    },
    {
     "name": "stdout",
     "output_type": "stream",
     "text": [
      "Common elements: ['2', '4']\n"
     ]
    }
   ],
   "source": [
    "list1 = input(\"Enter the first list of elements separated by spaces: \").split()\n",
    "list2 = input(\"Enter the second list of elements separated by spaces: \").split()\n",
    "common_elements = list(set(list1) & set(list2))\n",
    "print(\"Common elements:\", common_elements)"
   ]
  },
  {
   "cell_type": "code",
   "execution_count": null,
   "metadata": {},
   "outputs": [],
   "source": []
  }
 ],
 "metadata": {
  "kernelspec": {
   "display_name": "Python 3 (ipykernel)",
   "language": "python",
   "name": "python3"
  },
  "language_info": {
   "codemirror_mode": {
    "name": "ipython",
    "version": 3
   },
   "file_extension": ".py",
   "mimetype": "text/x-python",
   "name": "python",
   "nbconvert_exporter": "python",
   "pygments_lexer": "ipython3",
   "version": "3.12.7"
  }
 },
 "nbformat": 4,
 "nbformat_minor": 4
}
