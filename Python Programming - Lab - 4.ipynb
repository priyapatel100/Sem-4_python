{
 "cells": [
  {
   "cell_type": "markdown",
   "metadata": {},
   "source": [
    "\n",
    "<a href='https://www.darshan.ac.in/'> <img src='https://www.darshan.ac.in/Content/media/DU_Logo.svg' width=\"250\" height=\"300\"/></a>\n",
    "<pre>\n",
    "<center><b><h1>Python Programming - 2301CS404</b></center>\n",
    "<center><b><h1>Lab - 4</b></center>    \n",
    "<pre>"
   ]
  },
  {
   "cell_type": "markdown",
   "metadata": {},
   "source": [
    "# String"
   ]
  },
  {
   "cell_type": "markdown",
   "metadata": {},
   "source": [
    "### 01) WAP to check whether the given string is palindrome or not."
   ]
  },
  {
   "cell_type": "code",
   "execution_count": 37,
   "metadata": {},
   "outputs": [
    {
     "name": "stdin",
     "output_type": "stream",
     "text": [
      "Enter a string priyaayirp\n"
     ]
    },
    {
     "name": "stdout",
     "output_type": "stream",
     "text": [
      "This string is palindrome.\n"
     ]
    }
   ],
   "source": [
    "s = input(\"Enter a string\")\n",
    "if s[::-1]==s:\n",
    "    print(\"This string is palindrome.\")\n",
    "else:\n",
    "    print(\"This string is not palindrome.\")"
   ]
  },
  {
   "cell_type": "markdown",
   "metadata": {},
   "source": [
    "### 02) WAP to reverse the words in the given string."
   ]
  },
  {
   "cell_type": "code",
   "execution_count": 5,
   "metadata": {},
   "outputs": [
    {
     "name": "stdin",
     "output_type": "stream",
     "text": [
      "Enter a string:  priya patel\n"
     ]
    },
    {
     "name": "stdout",
     "output_type": "stream",
     "text": [
      "Reversed string: patel priya\n"
     ]
    }
   ],
   "source": [
    "s = input(\"Enter a string: \")\n",
    "words = s.split()\n",
    "reversed_words = words[::-1]\n",
    "reversed_string = \" \".join(reversed_words)\n",
    "print(\"Reversed string:\", reversed_string)"
   ]
  },
  {
   "cell_type": "markdown",
   "metadata": {},
   "source": [
    "### 03) WAP to remove ith character from given string."
   ]
  },
  {
   "cell_type": "code",
   "execution_count": 7,
   "metadata": {},
   "outputs": [
    {
     "name": "stdin",
     "output_type": "stream",
     "text": [
      "Enter a string:  priyapatel\n",
      "Enter the index to remove element in your string 5\n"
     ]
    },
    {
     "name": "stdout",
     "output_type": "stream",
     "text": [
      "String after removing the ith character: priyaatel\n"
     ]
    }
   ],
   "source": [
    "s = input(\"Enter a string: \")\n",
    "i = int(input(\"Enter the index to remove element in your string\"))\n",
    "result_string = s[:i] + s[i+1:]\n",
    "print(\"String after removing the ith character:\", result_string)"
   ]
  },
  {
   "cell_type": "markdown",
   "metadata": {},
   "source": [
    "### 04) WAP to find length of string without using len function."
   ]
  },
  {
   "cell_type": "code",
   "execution_count": 9,
   "metadata": {},
   "outputs": [
    {
     "name": "stdin",
     "output_type": "stream",
     "text": [
      "Enter a string priyapatel\n"
     ]
    },
    {
     "name": "stdout",
     "output_type": "stream",
     "text": [
      "length of the string : 10\n"
     ]
    }
   ],
   "source": [
    "s = input(\"Enter a string\")\n",
    "length = 0;\n",
    "for char in s:\n",
    "    length += 1\n",
    "print(\"length of the string :\",length)"
   ]
  },
  {
   "cell_type": "markdown",
   "metadata": {},
   "source": [
    "### 05) WAP to print even length word in string."
   ]
  },
  {
   "cell_type": "code",
   "execution_count": 19,
   "metadata": {},
   "outputs": [
    {
     "name": "stdin",
     "output_type": "stream",
     "text": [
      "Enter a string priya apatel\n"
     ]
    },
    {
     "name": "stdout",
     "output_type": "stream",
     "text": [
      "apatel\n"
     ]
    }
   ],
   "source": [
    "s = input(\"Enter a string\")\n",
    "words = s.split()\n",
    "for word in words :\n",
    "    if len(word)%2 == 0:\n",
    "        print(word)"
   ]
  },
  {
   "cell_type": "markdown",
   "metadata": {},
   "source": [
    "### 06) WAP to count numbers of vowels in given string."
   ]
  },
  {
   "cell_type": "code",
   "execution_count": 25,
   "metadata": {},
   "outputs": [
    {
     "name": "stdin",
     "output_type": "stream",
     "text": [
      "Enter a string: priyapatel\n"
     ]
    },
    {
     "name": "stdout",
     "output_type": "stream",
     "text": [
      "Number of vowels in the string: 4\n"
     ]
    }
   ],
   "source": [
    "s = input(\"Enter a string:\")\n",
    "vowel_count = 0\n",
    "vowels = set(\"aeiouAEIOU\")\n",
    "for char in s:\n",
    "    if char in vowels :\n",
    "        vowel_count += 1\n",
    "print(\"Number of vowels in the string:\", vowel_count)"
   ]
  },
  {
   "cell_type": "markdown",
   "metadata": {},
   "source": [
    "### 07) WAP to capitalize the first and last character of each word in a string."
   ]
  },
  {
   "cell_type": "code",
   "execution_count": 31,
   "metadata": {},
   "outputs": [
    {
     "name": "stdin",
     "output_type": "stream",
     "text": [
      "Enter a string: priyapatel\n"
     ]
    },
    {
     "name": "stdout",
     "output_type": "stream",
     "text": [
      "String with capitalized first and last characters: PriyapateL\n"
     ]
    }
   ],
   "source": [
    "s = input(\"Enter a string:\")\n",
    "words = s.split()\n",
    "capitalized_words = []\n",
    "for word in words: \n",
    "    if len(word) >= 1:\n",
    "     capitalized_word = word[0].upper() + word[1:-1] + word[-1].upper() \n",
    "    else:\n",
    "        capitalized_word = word.upper() \n",
    "capitalized_words.append(capitalized_word)\n",
    "result_string = \" \".join(capitalized_words)\n",
    "print(\"String with capitalized first and last characters:\", result_string)"
   ]
  },
  {
   "cell_type": "markdown",
   "metadata": {},
   "source": [
    "### 08) WAP to convert given array to string."
   ]
  },
  {
   "cell_type": "code",
   "execution_count": 33,
   "metadata": {},
   "outputs": [
    {
     "name": "stdout",
     "output_type": "stream",
     "text": [
      "String: hi i am priya patel\n"
     ]
    }
   ],
   "source": [
    "input_array = ['hi','i','am','priya','patel']  \n",
    "result_string = ' '.join(input_array) \n",
    "print(\"String:\", result_string)"
   ]
  },
  {
   "cell_type": "markdown",
   "metadata": {},
   "source": [
    "### 10) : Display credit card number. \n",
    "### card no. : 1234 5678 9012 3456\n",
    "### display as  : **** **** **** 3456"
   ]
  },
  {
   "cell_type": "code",
   "execution_count": 35,
   "metadata": {},
   "outputs": [
    {
     "name": "stdout",
     "output_type": "stream",
     "text": [
      "Masked card number: **** **** **** 3456\n"
     ]
    }
   ],
   "source": [
    "card_number = \"1234 5678 9012 3456\"\n",
    "view_number = \"**** **** **** \" + card_number[-4:]\n",
    "print(\"Masked card number:\", view_number)"
   ]
  },
  {
   "cell_type": "markdown",
   "metadata": {},
   "source": [
    "### 11) : Checking if the two strings are Anagram or not.\n",
    "### s1 = decimal and s2 = medical are Anagram"
   ]
  },
  {
   "cell_type": "code",
   "execution_count": 39,
   "metadata": {},
   "outputs": [
    {
     "name": "stdout",
     "output_type": "stream",
     "text": [
      "'decimal' and 'medical' are anagrams.\n"
     ]
    }
   ],
   "source": [
    "s1 = \"decimal\"\n",
    "s2 = \"medical\"\n",
    "s1 = s1.replace(\" \", \"\").lower()\n",
    "s2 = s2.replace(\" \", \"\").lower()\n",
    "if sorted(s1) == sorted(s2):\n",
    "    print(f\"'{s1}' and '{s2}' are anagrams.\")\n",
    "else:\n",
    "    print(f\"'{s1}' and '{s2}' are not anagrams.\")\n"
   ]
  },
  {
   "cell_type": "markdown",
   "metadata": {},
   "source": [
    "### 12) : Rearrange the given string. First lowercase then uppercase alphabets.\n",
    "### input : EHlsarwiwhtwMV\n",
    "### output : lsarwiwhtwEHMV"
   ]
  },
  {
   "cell_type": "code",
   "execution_count": 43,
   "metadata": {},
   "outputs": [
    {
     "name": "stdout",
     "output_type": "stream",
     "text": [
      "Rearranged string: lsarwiwhtwEHMV\n"
     ]
    }
   ],
   "source": [
    "s = \"EHlsarwiwhtwMV\"\n",
    "lowercase_letters = [char for char in s if char.islower()]\n",
    "uppercase_letters = [char for char in s if char.isupper()]\n",
    "result_string = ''.join(lowercase_letters + uppercase_letters)\n",
    "print(\"Rearranged string:\", result_string)"
   ]
  },
  {
   "cell_type": "code",
   "execution_count": null,
   "metadata": {},
   "outputs": [],
   "source": []
  }
 ],
 "metadata": {
  "kernelspec": {
   "display_name": "Python 3 (ipykernel)",
   "language": "python",
   "name": "python3"
  },
  "language_info": {
   "codemirror_mode": {
    "name": "ipython",
    "version": 3
   },
   "file_extension": ".py",
   "mimetype": "text/x-python",
   "name": "python",
   "nbconvert_exporter": "python",
   "pygments_lexer": "ipython3",
   "version": "3.12.7"
  },
  "vscode": {
   "interpreter": {
    "hash": "31f2aee4e71d21fbe5cf8b01ff0e069b9275f58929596ceb00d14d90e3e16cd6"
   }
  }
 },
 "nbformat": 4,
 "nbformat_minor": 4
}
