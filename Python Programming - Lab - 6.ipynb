{
 "cells": [
  {
   "attachments": {},
   "cell_type": "markdown",
   "metadata": {},
   "source": [
    "<a href='https://www.darshan.ac.in/'> <img src='https://www.darshan.ac.in/Content/media/DU_Logo.svg' width=\"250\" height=\"300\"/></a>\n",
    "<pre>\n",
    "<center><b><h1>Python Programming - 2301CS404</b></center>\n",
    "<center><b><h1>Lab - 6</b></center>    \n",
    "<pre>"
   ]
  },
  {
   "cell_type": "markdown",
   "metadata": {},
   "source": [
    "# Tuple"
   ]
  },
  {
   "cell_type": "markdown",
   "metadata": {},
   "source": [
    "### 01) WAP to find sum of tuple elements."
   ]
  },
  {
   "cell_type": "code",
   "execution_count": 1,
   "metadata": {},
   "outputs": [
    {
     "name": "stdout",
     "output_type": "stream",
     "text": [
      "The sum of the tuple elements is: 45\n"
     ]
    }
   ],
   "source": [
    "my_tuple = (1,2,3,4,5,6,7,8,9)\n",
    "sum_of_elements = sum(my_tuple)\n",
    "print(\"The sum of the tuple elements is:\", sum_of_elements)"
   ]
  },
  {
   "cell_type": "markdown",
   "metadata": {},
   "source": [
    "### 02) WAP to find Maximum and Minimum K elements in a given tuple."
   ]
  },
  {
   "cell_type": "code",
   "execution_count": 3,
   "metadata": {},
   "outputs": [
    {
     "name": "stdout",
     "output_type": "stream",
     "text": [
      "The minimum K elements are: [2, 4, 5]\n",
      "The maximum K elements are: [9, 10, 11]\n"
     ]
    }
   ],
   "source": [
    "my_tuple = (10, 4, 5, 8, 6, 11, 2, 9)\n",
    "k = 3\n",
    "sorted_tuple = sorted(my_tuple)\n",
    "min_k_elements = sorted_tuple[:k]\n",
    "max_k_elements = sorted_tuple[-k:]\n",
    "print(\"The minimum K elements are:\", min_k_elements)\n",
    "print(\"The maximum K elements are:\", max_k_elements)"
   ]
  },
  {
   "cell_type": "markdown",
   "metadata": {},
   "source": [
    "### 03) WAP to find tuples which have all elements divisible by K from a list of tuples."
   ]
  },
  {
   "cell_type": "code",
   "execution_count": 5,
   "metadata": {},
   "outputs": [
    {
     "name": "stdout",
     "output_type": "stream",
     "text": [
      "Tuples with all elements divisible by 5 are: [(10, 20, 30), (5, 15, 25)]\n"
     ]
    }
   ],
   "source": [
    "list_of_tuples = [(10, 20, 30), (5, 15, 25), (12, 18, 24), (7, 14, 21)]\n",
    "k = 5\n",
    "result = [tup for tup in list_of_tuples if all(element % k == 0 for element in tup)]\n",
    "print(\"Tuples with all elements divisible by\", k, \"are:\", result)"
   ]
  },
  {
   "cell_type": "markdown",
   "metadata": {},
   "source": [
    "### 04) WAP to create a list of tuples from given list having number and its cube in each tuple."
   ]
  },
  {
   "cell_type": "code",
   "execution_count": 14,
   "metadata": {},
   "outputs": [
    {
     "name": "stdin",
     "output_type": "stream",
     "text": [
      "Enter the list of numbers separated by commas:  1,2,3,4,5,7,8,9,6\n"
     ]
    },
    {
     "name": "stdout",
     "output_type": "stream",
     "text": [
      "List of tuples with number and its cube: [(1, 1), (2, 8), (3, 27), (4, 64), (5, 125), (7, 343), (8, 512), (9, 729), (6, 216)]\n"
     ]
    }
   ],
   "source": [
    "user_input = input(\"Enter the list of numbers separated by commas: \")\n",
    "numbers = list(map(int, user_input.split(',')))\n",
    "result = [(num, num**3) for num in numbers]\n",
    "print(\"List of tuples with number and its cube:\", result"
   ]
  },
  {
   "cell_type": "markdown",
   "metadata": {},
   "source": [
    "### 05) WAP to find tuples with all positive elements from the given list of tuples."
   ]
  },
  {
   "cell_type": "code",
   "execution_count": 16,
   "metadata": {},
   "outputs": [
    {
     "name": "stdout",
     "output_type": "stream",
     "text": [
      "Tuples with all positive elements are: [(5, 15, 25), (7, 14, 21)]\n"
     ]
    }
   ],
   "source": [
    "list_of_tuples = [(10, -20, 30), (5, 15, 25), (-12, 18, 24), (7, 14, 21)]\n",
    "result = [tup for tup in list_of_tuples if all(element > 0 for element in tup)]\n",
    "print(\"Tuples with all positive elements are:\", result)"
   ]
  },
  {
   "cell_type": "markdown",
   "metadata": {},
   "source": [
    "### 06) WAP to add tuple to list and vice – versa."
   ]
  },
  {
   "cell_type": "code",
   "execution_count": 27,
   "metadata": {},
   "outputs": [
    {
     "name": "stdout",
     "output_type": "stream",
     "text": [
      "List after adding tuple: [1, 2, 3, 4, 5, (6, 7, 8, 9, 10)]\n",
      "Tuple after adding list: (1, 2, 3, 4, 5, (6, 7, 8, 9, 10))\n"
     ]
    }
   ],
   "source": [
    "my_list = [1,2,3,4,5]\n",
    "my_tuple = (6,7,8,9,10)\n",
    "my_list.append(my_tuple)\n",
    "print(\"List after adding tuple:\", my_list)\n",
    "my_tuple = tuple(my_list)\n",
    "print(\"Tuple after adding list:\", my_tuple)"
   ]
  },
  {
   "cell_type": "markdown",
   "metadata": {},
   "source": [
    "### 07) WAP to remove tuples of length K."
   ]
  },
  {
   "cell_type": "code",
   "execution_count": 47,
   "metadata": {},
   "outputs": [
    {
     "name": "stdout",
     "output_type": "stream",
     "text": [
      "List after removing tuples of length 3 : [(5, 15), (7, 14, 21, 28)]\n"
     ]
    }
   ],
   "source": [
    "list_of_tuples = [(10, 20, 30), (5, 15), (12, 18, 24), (7, 14, 21, 28)]\n",
    "k = 3\n",
    "result = [tup for tup in list_of_tuples if len(tup) != k]\n",
    "print(\"List after removing tuples of length\", k, \":\", result)"
   ]
  },
  {
   "cell_type": "markdown",
   "metadata": {},
   "source": [
    "### 08) WAP to remove duplicates from tuple."
   ]
  },
  {
   "cell_type": "code",
   "execution_count": 49,
   "metadata": {},
   "outputs": [
    {
     "name": "stdout",
     "output_type": "stream",
     "text": [
      "Tuple after removing duplicates: (1, 2, 3, 4, 5, 6)\n"
     ]
    }
   ],
   "source": [
    "my_tuple = (1, 2, 3, 2, 4, 5, 3, 6, 1)\n",
    "unique_tuple = tuple(set(my_tuple))\n",
    "print(\"Tuple after removing duplicates:\", unique_tuple)"
   ]
  },
  {
   "cell_type": "markdown",
   "metadata": {},
   "source": [
    "### 09) WAP to multiply adjacent elements of a tuple and print that resultant tuple."
   ]
  },
  {
   "cell_type": "code",
   "execution_count": 51,
   "metadata": {},
   "outputs": [
    {
     "name": "stdout",
     "output_type": "stream",
     "text": [
      "Resultant tuple after multiplying adjacent elements: (2, 6, 12, 20)\n"
     ]
    }
   ],
   "source": [
    "my_tuple = (1, 2, 3, 4, 5)\n",
    "result = tuple(my_tuple[i] * my_tuple[i + 1] for i in range(len(my_tuple) - 1))\n",
    "print(\"Resultant tuple after multiplying adjacent elements:\", result)"
   ]
  },
  {
   "cell_type": "markdown",
   "metadata": {},
   "source": [
    "### 10) WAP to test if the given tuple is distinct or not."
   ]
  },
  {
   "cell_type": "code",
   "execution_count": 53,
   "metadata": {},
   "outputs": [
    {
     "name": "stdout",
     "output_type": "stream",
     "text": [
      "The tuple has all distinct elements.\n"
     ]
    }
   ],
   "source": [
    "my_tuple = (1, 2, 3, 4, 5)\n",
    "is_distinct = len(my_tuple) == len(set(my_tuple))\n",
    "if is_distinct:\n",
    "    print(\"The tuple has all distinct elements.\")\n",
    "else:\n",
    "    print(\"The tuple does not have all distinct elements.\")"
   ]
  },
  {
   "cell_type": "code",
   "execution_count": null,
   "metadata": {},
   "outputs": [],
   "source": []
  }
 ],
 "metadata": {
  "kernelspec": {
   "display_name": "Python 3 (ipykernel)",
   "language": "python",
   "name": "python3"
  },
  "language_info": {
   "codemirror_mode": {
    "name": "ipython",
    "version": 3
   },
   "file_extension": ".py",
   "mimetype": "text/x-python",
   "name": "python",
   "nbconvert_exporter": "python",
   "pygments_lexer": "ipython3",
   "version": "3.12.7"
  }
 },
 "nbformat": 4,
 "nbformat_minor": 4
}
